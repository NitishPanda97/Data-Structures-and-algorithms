{
 "cells": [
  {
   "cell_type": "code",
   "execution_count": 3,
   "metadata": {},
   "outputs": [
    {
     "name": "stdout",
     "output_type": "stream",
     "text": [
      "5=>4=>8=>11=>21=>\n",
      " after reverse\n",
      "21=>11=>8=>4=>5=>"
     ]
    }
   ],
   "source": [
    "class Node:\n",
    "    def __init__(self,data = None , next=None ):\n",
    "        self.data = data\n",
    "        self.next = next\n",
    "        \n",
    "class LinkedList:\n",
    "    def __init__(self):\n",
    "        self.head = None\n",
    "        \n",
    "    def append(self, new_data):\n",
    "        new_node = Node(new_data)\n",
    "        \n",
    "        if self.head is None:\n",
    "            self.head = new_node\n",
    "            return\n",
    "        last = self.head\n",
    "        while(last.next is not None):\n",
    "            last = last.next\n",
    "            \n",
    "        last.next = new_node\n",
    "        \n",
    "    def length(self):\n",
    "        temp = self.head\n",
    "        count = 0\n",
    "        while(temp is not None):\n",
    "            temp = temp.next\n",
    "            count +=1\n",
    "            \n",
    "        return count\n",
    "    def printLL(self):\n",
    "        current = self.head\n",
    "        while(current):\n",
    "            print(current.data,end = '=>')\n",
    "            current = current.next\n",
    "    \n",
    "    def reverse(self):\n",
    "        prev = None\n",
    "        current = self.head\n",
    "        while(current is not None):\n",
    "            next = current.next\n",
    "            current.next = prev\n",
    "            prev = current\n",
    "            current = next\n",
    "        self.head = prev\n",
    "        \n",
    "        \n",
    "if __name__ == '__main__':\n",
    "    llist = LinkedList()\n",
    "    \n",
    "    llist.append(5)\n",
    "    llist.append(4)\n",
    "    llist.append(8)\n",
    "    llist.append(11)\n",
    "    llist.append(21)\n",
    "    \n",
    "    llist.printLL()\n",
    "    llist.reverse()\n",
    "    print(\"\\n after reverse\")\n",
    "    llist.printLL()\n",
    "        \n",
    "        \n",
    "        "
   ]
  },
  {
   "cell_type": "code",
   "execution_count": null,
   "metadata": {},
   "outputs": [],
   "source": []
  }
 ],
 "metadata": {
  "kernelspec": {
   "display_name": "Python 3",
   "language": "python",
   "name": "python3"
  },
  "language_info": {
   "codemirror_mode": {
    "name": "ipython",
    "version": 3
   },
   "file_extension": ".py",
   "mimetype": "text/x-python",
   "name": "python",
   "nbconvert_exporter": "python",
   "pygments_lexer": "ipython3",
   "version": "3.9.1"
  }
 },
 "nbformat": 4,
 "nbformat_minor": 4
}
