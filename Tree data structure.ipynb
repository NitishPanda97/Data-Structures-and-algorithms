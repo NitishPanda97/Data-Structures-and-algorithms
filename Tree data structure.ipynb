{
 "cells": [
  {
   "cell_type": "code",
   "execution_count": 7,
   "metadata": {},
   "outputs": [
    {
     "name": "stdout",
     "output_type": "stream",
     "text": [
      " Electronics\n",
      "   |__ Laptop\n",
      "      |__ Mac\n",
      "      |__ Surcface\n",
      "      |__ Thinkpad\n",
      "   |__ Cell Phone\n",
      "      |__ iphone\n",
      "      |__ Google Pixel\n",
      "      |__ One Plus\n",
      "   |__ TV\n",
      "      |__ Samsung\n",
      "      |__ LG\n"
     ]
    }
   ],
   "source": [
    "class TreeNode:\n",
    "    def __init__(self,data):\n",
    "        self.data = data\n",
    "        self.children = []\n",
    "        self.parent = None\n",
    "        \n",
    "    def get_level(self):\n",
    "        level = 0\n",
    "        p = self.parent\n",
    "        while p :\n",
    "            level += 1\n",
    "            p = p.parent\n",
    "            \n",
    "        return level\n",
    "        \n",
    "        \n",
    "    def print_tree(self):\n",
    "        spaces = ' ' * self.get_level() * 3\n",
    "        prefix = spaces + \"|__\" if self.parent else \"\"\n",
    "        print(prefix,self.data)\n",
    "        if self.children:\n",
    "            for child in self.children:\n",
    "                child.print_tree()\n",
    "        \n",
    "    def  add_child(self,child):\n",
    "        child.parent = self\n",
    "        self.children.append(child)    \n",
    "        \n",
    "def build_product_tree():\n",
    "    root = TreeNode(\"Electronics\")\n",
    "    \n",
    "    laptop = TreeNode(\"Laptop\")\n",
    "    laptop.add_child(TreeNode(\"Mac\"))\n",
    "    laptop.add_child(TreeNode(\"Surcface\"))\n",
    "    laptop.add_child(TreeNode(\"Thinkpad\"))\n",
    "    \n",
    "    cellphone = TreeNode(\"Cell Phone\")\n",
    "    cellphone.add_child(TreeNode(\"iphone\"))\n",
    "    cellphone.add_child(TreeNode(\"Google Pixel\"))\n",
    "    cellphone.add_child(TreeNode(\"One Plus\"))\n",
    "    \n",
    "    tv = TreeNode(\"TV\")\n",
    "    tv.add_child(TreeNode(\"Samsung\"))\n",
    "    tv.add_child(TreeNode(\"LG\"))\n",
    "    \n",
    "    root.add_child(laptop)\n",
    "    root.add_child(cellphone)\n",
    "    root.add_child(tv)\n",
    "    \n",
    "    root.print_tree()\n",
    "    \n",
    "if __name__ == '__main__':\n",
    "    build_product_tree()"
   ]
  },
  {
   "cell_type": "code",
   "execution_count": null,
   "metadata": {},
   "outputs": [],
   "source": []
  }
 ],
 "metadata": {
  "kernelspec": {
   "display_name": "Python 3",
   "language": "python",
   "name": "python3"
  },
  "language_info": {
   "codemirror_mode": {
    "name": "ipython",
    "version": 3
   },
   "file_extension": ".py",
   "mimetype": "text/x-python",
   "name": "python",
   "nbconvert_exporter": "python",
   "pygments_lexer": "ipython3",
   "version": "3.9.1"
  }
 },
 "nbformat": 4,
 "nbformat_minor": 4
}
