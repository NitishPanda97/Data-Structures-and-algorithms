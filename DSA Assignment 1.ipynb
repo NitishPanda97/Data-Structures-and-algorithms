{
 "cells": [
  {
   "cell_type": "code",
   "execution_count": 1,
   "metadata": {},
   "outputs": [
    {
     "name": "stdout",
     "output_type": "stream",
     "text": [
      "[[], [1], [2], [1, 2], [3], [1, 3], [2, 3], [1, 2, 3]]\n"
     ]
    }
   ],
   "source": [
    "def sub_lists (l):\n",
    "    base = []  \n",
    "    lists = [base]\n",
    "    for i in range(len(l)):\n",
    "        orig = lists[:]\n",
    "        new = l[i]\n",
    "        for j in range(len(lists)):\n",
    "            lists[j] = lists[j] + [new]\n",
    "        lists = orig + lists\n",
    "          \n",
    "    return lists\n",
    "\n",
    "l1 = [1, 2, 3]\n",
    "print(sub_lists(l1))"
   ]
  },
  {
   "cell_type": "code",
   "execution_count": null,
   "metadata": {},
   "outputs": [],
   "source": []
  }
 ],
 "metadata": {
  "kernelspec": {
   "display_name": "Python 3",
   "language": "python",
   "name": "python3"
  },
  "language_info": {
   "codemirror_mode": {
    "name": "ipython",
    "version": 3
   },
   "file_extension": ".py",
   "mimetype": "text/x-python",
   "name": "python",
   "nbconvert_exporter": "python",
   "pygments_lexer": "ipython3",
   "version": "3.9.1"
  }
 },
 "nbformat": 4,
 "nbformat_minor": 4
}
