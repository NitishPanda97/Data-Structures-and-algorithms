{
 "cells": [
  {
   "cell_type": "code",
   "execution_count": 2,
   "metadata": {},
   "outputs": [
    {
     "name": "stdout",
     "output_type": "stream",
     "text": [
      "[3, 7, 8, 10, 15, 23, 29, 98]\n",
      "[]\n",
      "[3]\n",
      "[2, 7, 8, 9]\n",
      "[1, 2, 3, 4, 5]\n"
     ]
    }
   ],
   "source": [
    "def merge_sort(arr):\n",
    "    if len(arr) <= 1:\n",
    "        return\n",
    "    \n",
    "    mid = len(arr) // 2\n",
    "    \n",
    "    left = arr[:mid]\n",
    "    right = arr[mid:]\n",
    "    \n",
    "    merge_sort(left)\n",
    "    merge_sort(right)\n",
    "    \n",
    "    merge_two_sorted_lists(left,right,arr)\n",
    "\n",
    "def merge_two_sorted_lists(a,b,arr):\n",
    "    len_a = len(a)\n",
    "    len_b = len(b)\n",
    "    \n",
    "    i = j = k = 0\n",
    "    \n",
    "    while i < len_a and j < len_b :\n",
    "        if a[i] <= b[j]:\n",
    "            arr[k] = a[i]\n",
    "            i += 1\n",
    "            \n",
    "        else:\n",
    "            arr[k] = b[j]\n",
    "            j+=1\n",
    "            \n",
    "        k += 1\n",
    "        \n",
    "    while i < len_a:\n",
    "        arr[k] = a[i]\n",
    "        i += 1\n",
    "        k +=1\n",
    "        \n",
    "    while j < len_b :\n",
    "        arr[k] = b[j]\n",
    "        j += 1\n",
    "        k += 1\n",
    "        \n",
    "if __name__ == '__main__':\n",
    "    test_cases = [\n",
    "        [10, 3, 15, 7, 8, 23, 98, 29],\n",
    "        [],\n",
    "        [3],\n",
    "        [9,8,7,2],\n",
    "        [1,2,3,4,5]\n",
    "    ]\n",
    "\n",
    "    for arr in test_cases:\n",
    "        merge_sort(arr)\n",
    "        print(arr)\n",
    "   \n",
    "        "
   ]
  },
  {
   "cell_type": "code",
   "execution_count": null,
   "metadata": {},
   "outputs": [],
   "source": []
  }
 ],
 "metadata": {
  "kernelspec": {
   "display_name": "Python 3",
   "language": "python",
   "name": "python3"
  },
  "language_info": {
   "codemirror_mode": {
    "name": "ipython",
    "version": 3
   },
   "file_extension": ".py",
   "mimetype": "text/x-python",
   "name": "python",
   "nbconvert_exporter": "python",
   "pygments_lexer": "ipython3",
   "version": "3.9.1"
  }
 },
 "nbformat": 4,
 "nbformat_minor": 4
}
