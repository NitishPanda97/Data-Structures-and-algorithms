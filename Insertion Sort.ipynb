{
 "cells": [
  {
   "cell_type": "code",
   "execution_count": 2,
   "metadata": {},
   "outputs": [
    {
     "name": "stdout",
     "output_type": "stream",
     "text": [
      "sorted array : [2, 7, 9, 11, 15, 20, 29]\n",
      "sorted array : [3, 7, 9, 11]\n",
      "sorted array : [10, 21, 22, 25]\n",
      "sorted array : [15, 28, 29]\n",
      "sorted array : []\n",
      "sorted array : [6]\n"
     ]
    }
   ],
   "source": [
    "def insertion_sort(elements):\n",
    "    for i in range(1, len(elements)):\n",
    "        anchor = elements[i]\n",
    "        j = i-1\n",
    "        while j>=0 and anchor < elements[j]:\n",
    "            elements[j+1] = elements[j]\n",
    "            j = j-1\n",
    "        elements[j+1] = anchor\n",
    "        \n",
    "if __name__ == '__main__':\n",
    "    tests = [\n",
    "        [11,9,29,7,2,15,20],\n",
    "        [3,7,9,11],\n",
    "        [25,22,21,10],\n",
    "        [29,15,28],\n",
    "        [],\n",
    "        [6]\n",
    "    ]\n",
    "    \n",
    "    for elements in tests:\n",
    "        insertion_sort(elements)\n",
    "        print(f'sorted array : {elements}')        \n",
    "    "
   ]
  },
  {
   "cell_type": "code",
   "execution_count": null,
   "metadata": {},
   "outputs": [],
   "source": []
  }
 ],
 "metadata": {
  "kernelspec": {
   "display_name": "Python 3",
   "language": "python",
   "name": "python3"
  },
  "language_info": {
   "codemirror_mode": {
    "name": "ipython",
    "version": 3
   },
   "file_extension": ".py",
   "mimetype": "text/x-python",
   "name": "python",
   "nbconvert_exporter": "python",
   "pygments_lexer": "ipython3",
   "version": "3.9.1"
  }
 },
 "nbformat": 4,
 "nbformat_minor": 4
}
