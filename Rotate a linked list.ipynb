{
 "cells": [
  {
   "cell_type": "code",
   "execution_count": 2,
   "metadata": {},
   "outputs": [
    {
     "name": "stdout",
     "output_type": "stream",
     "text": [
      "Given linked list \n",
      "10 20 30 40 50 60 \n",
      "Rotated Linked list \n",
      "50 60 10 20 30 40 "
     ]
    }
   ],
   "source": [
    "class Node:\n",
    "     \n",
    "    def __init__(self):\n",
    "         \n",
    "        self.data = 0\n",
    "        self.next = None\n",
    " \n",
    "\n",
    "def rotate(head_ref, k):\n",
    " \n",
    "    if (k == 0):\n",
    "        return\n",
    "  \n",
    "   \n",
    "    current = head_ref\n",
    "  \n",
    "    \n",
    "    while (current.next != None):\n",
    "        current = current.next\n",
    "  \n",
    "    current.next = head_ref\n",
    "    current = head_ref\n",
    "     \n",
    "    \n",
    "    for i in range(k - 1):\n",
    "        current = current.next\n",
    "  \n",
    "    \n",
    "    head_ref = current.next\n",
    "    current.next = None\n",
    "    return head_ref\n",
    "  \n",
    "\n",
    "def push(head_ref, new_data):\n",
    " \n",
    "    new_node = Node()\n",
    "  \n",
    "    new_node.data = new_data\n",
    "  \n",
    "    \n",
    "    new_node.next = (head_ref)\n",
    "  \n",
    "   \n",
    "    (head_ref) = new_node\n",
    "    return head_ref\n",
    "     \n",
    "\n",
    "def printList(node):\n",
    " \n",
    "    while (node != None):\n",
    "        print(node.data, end = ' ')\n",
    "        node = node.next\n",
    " \n",
    "\n",
    "if __name__=='__main__':\n",
    "     \n",
    "   \n",
    "    head = None\n",
    "  \n",
    "   \n",
    "    for i in range(60, 0, -10):\n",
    "        head = push(head, i)\n",
    "  \n",
    "    print(\"Given linked list \")\n",
    "    printList(head)\n",
    "    head = rotate(head, 4)\n",
    "  \n",
    "    print(\"\\nRotated Linked list \")\n",
    "    printList(head)\n",
    " \n"
   ]
  },
  {
   "cell_type": "code",
   "execution_count": null,
   "metadata": {},
   "outputs": [],
   "source": []
  }
 ],
 "metadata": {
  "kernelspec": {
   "display_name": "Python 3",
   "language": "python",
   "name": "python3"
  },
  "language_info": {
   "codemirror_mode": {
    "name": "ipython",
    "version": 3
   },
   "file_extension": ".py",
   "mimetype": "text/x-python",
   "name": "python",
   "nbconvert_exporter": "python",
   "pygments_lexer": "ipython3",
   "version": "3.9.1"
  }
 },
 "nbformat": 4,
 "nbformat_minor": 4
}
